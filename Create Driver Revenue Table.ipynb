{
 "cells": [
  {
   "cell_type": "code",
   "execution_count": 88,
   "metadata": {},
   "outputs": [],
   "source": [
    "import pandas as pd\n",
    "import numpy as np\n",
    "import matplotlib.pyplot as plt\n",
    "\n",
    "%matplotlib inline"
   ]
  },
  {
   "cell_type": "code",
   "execution_count": 89,
   "metadata": {},
   "outputs": [],
   "source": [
    "df_did = pd.read_csv('driver_ids.csv')\n",
    "df_rid = pd.read_csv('ride_ids.csv')\n",
    "df_rts = pd.read_csv('ride_timestamps.csv')\n",
    "df_rtsp = pd.read_csv('ride_timestamps_pvt.csv', parse_dates=['accepted_at', 'arrived_at', 'dropped_off_at', 'picked_up_at', 'requested_at'])\n",
    "\n",
    "# Import your revenue table with data you need. This table is made via all the work below\n",
    "# df = pd.read_csv('rides_revenue.csv')"
   ]
  },
  {
   "cell_type": "markdown",
   "metadata": {},
   "source": [
    "#### Pivot your ride_timestamps table to have unique rides per row"
   ]
  },
  {
   "cell_type": "code",
   "execution_count": 16,
   "metadata": {},
   "outputs": [],
   "source": [
    "# df_rtsp = pd.pivot_table(df_rts, values='timestamp', index='ride_id', columns='event', dropna=False, aggfunc='min')\n",
    "# df_rtsp.reset_index(inplace=True)\n",
    "# df_rtsp.to_csv(\"ride_timestamps_pvt.csv\", index=False)"
   ]
  },
  {
   "cell_type": "markdown",
   "metadata": {},
   "source": [
    "#### Do data transformations to get a rich table. Goal: Ride Revenue + Driver Information"
   ]
  },
  {
   "cell_type": "code",
   "execution_count": 79,
   "metadata": {},
   "outputs": [],
   "source": [
    "df_rtsp['time_to_accept'] = df_rtsp['accepted_at'] - df_rtsp['requested_at']\n",
    "df_rtsp['time_to_arrive'] = df_rtsp['arrived_at'] - df_rtsp['accepted_at']\n",
    "df_rtsp['driver_wait_time'] = df_rtsp['picked_up_at'] - df_rtsp['arrived_at']\n",
    "\n",
    "## We'd normally do trip duration, but this already comes on the ride_id dataset. I'll default to that one\n",
    "# df_rtsp['trip_duration'] = df_rtsp['dropped_off_at'] - df_rtsp['picked_up_at']"
   ]
  },
  {
   "cell_type": "markdown",
   "metadata": {},
   "source": [
    "#### Join Driver ID and Driver Onboard Date"
   ]
  },
  {
   "cell_type": "code",
   "execution_count": 80,
   "metadata": {},
   "outputs": [],
   "source": [
    "# Using inner joins to make sure we don't have NaNs. It looks like a negligable amount of rows are NaNs\n",
    "df = pd.merge(df_rtsp, df_rid, how='inner', on=['ride_id'])\n",
    "df = pd.merge(df, df_did, how='inner', on=['driver_id'])"
   ]
  },
  {
   "cell_type": "markdown",
   "metadata": {},
   "source": [
    "#### Misc Conversions"
   ]
  },
  {
   "cell_type": "code",
   "execution_count": 83,
   "metadata": {},
   "outputs": [],
   "source": [
    "# Convert meters to miles, 1 Mile = 1609.34 Meters\n",
    "df['trip_miles'] = df['ride_distance'] / 1609.34\n",
    "\n",
    "# Convert seconds duration to minutes duration, 1 Minute = 60 Seconds\n",
    "df['ride_duration_min'] = df['ride_duration'] / 60"
   ]
  },
  {
   "cell_type": "markdown",
   "metadata": {},
   "source": [
    "#### Calculate Revenue Per Ride"
   ]
  },
  {
   "cell_type": "code",
   "execution_count": 84,
   "metadata": {},
   "outputs": [],
   "source": [
    "# Create your revenue function\n",
    "# Assumption: Prime time is a multiplier at the end of the fare calculation\n",
    "def get_ride_revenue(ride):\n",
    "    base_fare = 2.00\n",
    "    cost_per_mile = 1.15\n",
    "    cost_per_minute = 0.22\n",
    "    service_fee = 1.75\n",
    "    minimum_fare = 5.00\n",
    "    maximum_fare = 400.00\n",
    "    trip_revenue = 0 # Starting point\n",
    "    \n",
    "    # Add on your base_fare and service fee\n",
    "    trip_revenue += base_fare\n",
    "    trip_revenue += service_fee\n",
    "    \n",
    "    # Calculate your variable charges\n",
    "    trip_revenue += (ride['trip_miles'] * cost_per_mile)\n",
    "    trip_revenue += (ride['ride_duration_min'] * cost_per_minute)\n",
    "    \n",
    "    # Take care if your minimum_fare and maximum_fare\n",
    "    if trip_revenue > 400:\n",
    "        trip_revenue = 400\n",
    "    if trip_revenue < 5:\n",
    "        trip_revenue = 5\n",
    "        \n",
    "    # Calculate your prime time\n",
    "    trip_revenue = trip_revenue * (1 + (ride['ride_prime_time'] / 100))\n",
    "    \n",
    "    # Round to nearest cent to make the calcs cleaner\n",
    "    trip_revenue = np.around(trip_revenue, decimals=2)\n",
    "    \n",
    "    return trip_revenue"
   ]
  },
  {
   "cell_type": "code",
   "execution_count": 85,
   "metadata": {},
   "outputs": [],
   "source": [
    "# Apply your revenue calculation\n",
    "df['ride_revenue'] = df.apply(get_ride_revenue, axis=1)"
   ]
  },
  {
   "cell_type": "code",
   "execution_count": 87,
   "metadata": {},
   "outputs": [],
   "source": [
    "df.to_csv('rides_revenue.csv', index=False)"
   ]
  }
 ],
 "metadata": {
  "kernelspec": {
   "display_name": "Python 3",
   "language": "python",
   "name": "python3"
  },
  "language_info": {
   "codemirror_mode": {
    "name": "ipython",
    "version": 3
   },
   "file_extension": ".py",
   "mimetype": "text/x-python",
   "name": "python",
   "nbconvert_exporter": "python",
   "pygments_lexer": "ipython3",
   "version": "3.7.3"
  }
 },
 "nbformat": 4,
 "nbformat_minor": 2
}
