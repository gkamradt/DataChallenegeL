{
 "cells": [
  {
   "cell_type": "code",
   "execution_count": 95,
   "metadata": {},
   "outputs": [],
   "source": [
    "import numpy as np\n",
    "import pandas as pd\n",
    "import matplotlib.pyplot as plt\n",
    "\n",
    "%matplotlib inline"
   ]
  },
  {
   "cell_type": "code",
   "execution_count": 96,
   "metadata": {},
   "outputs": [],
   "source": [
    "df_drivers = pd.read_csv('driver_ids.csv', parse_dates=['driver_onboard_date'])\n",
    "df_rides = pd.read_csv('ride_ids.csv')\n",
    "df_rtsp = pd.read_csv('ride_timestamps_pvt.csv', parse_dates=['accepted_at', 'arrived_at', 'dropped_off_at', 'picked_up_at', 'requested_at'])\n",
    "df_r = pd.read_csv('rides_revenue.csv', parse_dates=['driver_onboard_date', 'dropped_off_at'])"
   ]
  },
  {
   "cell_type": "markdown",
   "metadata": {},
   "source": [
    "### Average Projected Lifetime Of A Driver (Months)"
   ]
  },
  {
   "cell_type": "markdown",
   "metadata": {},
   "source": [
    "##### Using Average Months Active"
   ]
  },
  {
   "cell_type": "code",
   "execution_count": 97,
   "metadata": {},
   "outputs": [
    {
     "name": "stdout",
     "output_type": "stream",
     "text": [
      "The Average Lifetime Of A Driver (using average months active) Is: 1.635720757643673 Months\n"
     ]
    }
   ],
   "source": [
    "## Assumption: average projected lifetime of a driver = last ride done - onboard date. If no rides complete, then lifetime is 0 months\n",
    "# Find the last ride that a driver did by looking at their max drop off date. \n",
    "max_drop_off_time = df_r.groupby(['driver_id'])['dropped_off_at'].max()\n",
    "\n",
    "# Merge (left join) that with when drivers were onboarded. Looks like 100 (~9%) drivers never completed a ride\n",
    "df = pd.merge(df_drivers, max_drop_off_time, how='left', on=['driver_id'])\n",
    "\n",
    "# Get month delta between last ride and onboard date. Fill in your no-ride drivers with 0 months\n",
    "df['time_to_last_ride'] = df['dropped_off_at'] - df['driver_onboard_date']\n",
    "df['time_to_last_ride_m'] = df['time_to_last_ride'] / np.timedelta64(1, 'M')\n",
    "df['time_to_last_ride_m'].fillna(0, inplace=True)\n",
    "\n",
    "# Calc the mean number of months\n",
    "average_driver_lifetime = df['time_to_last_ride_m'].mean()\n",
    "\n",
    "print (\"The Average Lifetime Of A Driver (using average months active) Is: {} Months\".format(average_driver_lifetime))"
   ]
  },
  {
   "cell_type": "markdown",
   "metadata": {},
   "source": [
    "##### Churn Rate\n",
    "We are going to grab a **simple weekly churn rate**. Of all the drivers that were active a given week, how many were active next week? Then we will take the reciprocal to see how many weeks they're expected to be active. This doesn't account for drivers who never took a ride."
   ]
  },
  {
   "cell_type": "code",
   "execution_count": 145,
   "metadata": {},
   "outputs": [],
   "source": [
    "# Create a simple table that has all rides and their drop off date. We are assuming the ride date is drop off date\n",
    "dfw = df_r[['driver_id', 'ride_id', 'dropped_off_at']]"
   ]
  },
  {
   "cell_type": "code",
   "execution_count": 146,
   "metadata": {},
   "outputs": [],
   "source": [
    "min_ride_date = dfw['dropped_off_at'].min()\n",
    "max_ride_date = dfw['dropped_off_at'].max()\n",
    "date_range = pd.date_range(min_ride_date, max_ride_date)"
   ]
  },
  {
   "cell_type": "code",
   "execution_count": 155,
   "metadata": {},
   "outputs": [
    {
     "name": "stdout",
     "output_type": "stream",
     "text": [
      "Average Churn Rate: 0.108\n",
      "Expected Months Active (1 / churn rate): 9.29 Months\n"
     ]
    }
   ],
   "source": [
    "date_window = 28 # 28 for 28 days in a month\n",
    "churn_rates = []\n",
    "\n",
    "# Go through each date you have and then calc a rolling churn metric.\n",
    "# We are making sure we don't go all the way to the end of the list\n",
    "for date in date_range[:(-60)]:\n",
    "    \n",
    "    # Get the dates of your windows\n",
    "    active_close = date + pd.Timedelta(date_window, unit='D')\n",
    "    churn_close = date + pd.Timedelta(date_window * 2, unit='D')\n",
    "    \n",
    "    # Get a list of drivers who were active between the date your on and then end of your active period\n",
    "    c1 = dfw['dropped_off_at'] >= date\n",
    "    c2 = dfw['dropped_off_at'] <= active_close\n",
    "    active_drivers = dfw[c1 & c2]['driver_id'].unique()\n",
    "    \n",
    "    # Get a list of drivers who were active between the end of your active period and your churn window\n",
    "    c3 = dfw['dropped_off_at'] >= active_close\n",
    "    c4 = dfw['dropped_off_at'] <= churn_close\n",
    "    active_drivers_churn_window = dfw[c3 & c4]['driver_id'].unique()\n",
    "    \n",
    "    # See what the overlap is. This is how many drivers were still active after your churn window\n",
    "    still_active_drivers = set(active_drivers) & set(active_drivers_churn_window)\n",
    "    \n",
    "    churn_rate = 1 - (len(still_active_drivers) / len(active_drivers))\n",
    "    \n",
    "    # Record your churn rates\n",
    "    churn_rates.append(churn_rate)\n",
    "    \n",
    "#     print (date, active_close, churn_close, len(still_active_drivers), len(active_drivers), churn_rate)\n",
    "    \n",
    "average_churn_rate = np.mean(churn_rates)\n",
    "average_driver_lifetime = 1 / average_churn_rate\n",
    "\n",
    "print (\"Average Churn Rate: {:.3f}\".format(average_churn_rate))\n",
    "print (\"Expected Months Active (1 / churn rate): {:,.2f} Months\".format(average_driver_lifetime))"
   ]
  },
  {
   "cell_type": "markdown",
   "metadata": {},
   "source": [
    "### Average Revenue Per Driver Per Month"
   ]
  },
  {
   "cell_type": "markdown",
   "metadata": {},
   "source": [
    "1. Total up total Revenue Per Driver\n",
    "2. Use the length of time they've been driving (from above calc)\n",
    "3. Divide the two metrics to get your average revenue per driver per month"
   ]
  },
  {
   "cell_type": "code",
   "execution_count": 156,
   "metadata": {},
   "outputs": [],
   "source": [
    "# Find out how much $$ a driver has made over their lifetime\n",
    "df_driver_total_revenue = df_r.groupby(['driver_id'])['ride_revenue'].sum()"
   ]
  },
  {
   "cell_type": "code",
   "execution_count": 157,
   "metadata": {},
   "outputs": [],
   "source": [
    "# Drop drivers who haven't completed a ride\n",
    "df = df[-df['dropped_off_at'].isna()]"
   ]
  },
  {
   "cell_type": "code",
   "execution_count": 158,
   "metadata": {},
   "outputs": [],
   "source": [
    "# Merge with your dataset that has the length of time a driver has been driving\n",
    "df_driver_monthly_revenue = pd.merge(df, df_driver_total_revenue, how='left', on=['driver_id'])\n",
    "df_driver_monthly_revenue = df_driver_monthly_revenue[['driver_id', 'time_to_last_ride_m', 'ride_revenue']]\n",
    "\n",
    "# Divide their total revenue by the months they've been driving to get revenue per month. Fill the NaNs with 0\n",
    "df_driver_monthly_revenue['driver_revenue_per_month'] = df_driver_monthly_revenue['ride_revenue'] / df_driver_monthly_revenue['time_to_last_ride_m']\n",
    "df_driver_monthly_revenue.fillna(0, inplace=True)"
   ]
  },
  {
   "cell_type": "code",
   "execution_count": 159,
   "metadata": {},
   "outputs": [
    {
     "name": "stdout",
     "output_type": "stream",
     "text": [
      "The average driver revenue per month is: $1,635.22\n"
     ]
    }
   ],
   "source": [
    "# Get the mean revenue per driver per month from the dataset you just made\n",
    "average_driver_revenue_per_month = df_driver_monthly_revenue['driver_revenue_per_month'].mean()\n",
    "print (\"The average driver revenue per month is: ${:,.2f}\".format(average_driver_revenue_per_month))"
   ]
  },
  {
   "cell_type": "markdown",
   "metadata": {},
   "source": [
    "### Average Lifetime Value Of A Driver"
   ]
  },
  {
   "cell_type": "markdown",
   "metadata": {},
   "source": [
    "Average Length Of Driver Lifetime (months) * Average Revenue Per Driver Per Month"
   ]
  },
  {
   "cell_type": "code",
   "execution_count": 160,
   "metadata": {},
   "outputs": [
    {
     "name": "stdout",
     "output_type": "stream",
     "text": [
      "The Average Lifetime Of A Driver Is: 9.29 Months\n",
      "The Average Driver Revenue Per Month is: $1,635.22\n",
      "\n",
      "The Driver Lifetime Value is: $15,189.75\n"
     ]
    }
   ],
   "source": [
    "print (\"The Average Lifetime Of A Driver Is: {:,.2f} Months\".format(average_driver_lifetime))\n",
    "print (\"The Average Driver Revenue Per Month is: ${:,.2f}\".format(average_driver_revenue_per_month))\n",
    "print (\"\")\n",
    "\n",
    "drive_lifetime_value = average_driver_lifetime * average_driver_revenue_per_month\n",
    "print (\"The Driver Lifetime Value is: ${:,.2f}\".format(drive_lifetime_value))"
   ]
  },
  {
   "cell_type": "code",
   "execution_count": 162,
   "metadata": {},
   "outputs": [],
   "source": [
    "# To get the actual buckets for your histogram. This will be used to make the charts on gSheets\n",
    "\n",
    "# df_driver_monthly_revenue['driver_revenue_per_month'].hist(bins=30)\n",
    "# _hist = np.histogram(df_driver_monthly_revenue['driver_revenue_per_month'], bins=30, range=(0,7500))\n",
    "# pd.DataFrame(zip( _hist[1], _hist[0])).to_clipboard()"
   ]
  }
 ],
 "metadata": {
  "kernelspec": {
   "display_name": "Python 3",
   "language": "python",
   "name": "python3"
  },
  "language_info": {
   "codemirror_mode": {
    "name": "ipython",
    "version": 3
   },
   "file_extension": ".py",
   "mimetype": "text/x-python",
   "name": "python",
   "nbconvert_exporter": "python",
   "pygments_lexer": "ipython3",
   "version": "3.7.3"
  }
 },
 "nbformat": 4,
 "nbformat_minor": 2
}
