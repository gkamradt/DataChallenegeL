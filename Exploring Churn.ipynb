{
 "cells": [
  {
   "cell_type": "code",
   "execution_count": 17,
   "metadata": {},
   "outputs": [],
   "source": [
    "import numpy as np\n",
    "import pandas as pd\n",
    "import matplotlib.pyplot as plt\n",
    "from sklearn.model_selection import train_test_split\n",
    "from sklearn.ensemble import RandomForestClassifier\n",
    "from sklearn.ensemble import GradientBoostingClassifier\n",
    "from sklearn.linear_model import LogisticRegression\n",
    "import sklearn.metrics as metrics\n",
    "from sklearn.metrics import f1_score\n",
    "\n",
    "%matplotlib inline"
   ]
  },
  {
   "cell_type": "code",
   "execution_count": 18,
   "metadata": {},
   "outputs": [],
   "source": [
    "df_drivers = pd.read_csv('driver_ids.csv', parse_dates=['driver_onboard_date'])\n",
    "df_rides = pd.read_csv('ride_ids.csv')\n",
    "df_rtsp = pd.read_csv('ride_timestamps_pvt.csv', parse_dates=['accepted_at', 'arrived_at', 'dropped_off_at', 'picked_up_at', 'requested_at'])\n",
    "df_r = pd.read_csv('rides_revenue.csv', parse_dates=['driver_onboard_date', 'dropped_off_at'])"
   ]
  },
  {
   "cell_type": "markdown",
   "metadata": {},
   "source": [
    "### Assumptions"
   ]
  },
  {
   "cell_type": "markdown",
   "metadata": {},
   "source": [
    "Since we only have at most 1.5 months of post-onboarding data for all drivers we need to make a few churn assumptions:\n",
    "* All drivers (denominator) = Drivers who’ve completed a ride in their first **3 weeks**\n",
    "* Churners = Drivers who’ve completed a ride in their first **3 weeks** but didn’t complete a ride **after that**"
   ]
  },
  {
   "cell_type": "code",
   "execution_count": 19,
   "metadata": {},
   "outputs": [],
   "source": [
    "# Get how many days a ride was from a drivers onboarding date\n",
    "df_r['days_since_onboarding'] = (df_r['dropped_off_at'] - df_r['driver_onboard_date']).dt.days\n",
    "\n",
    "# Rank the rides per driver\n",
    "df_r['driver_ride_num'] = df_r.groupby('driver_id')['dropped_off_at'].rank(ascending=True)\n",
    "\n",
    "# Turn the time to accept into seconds. We'll use this later\n",
    "df_r['time_to_accept'] = pd.to_timedelta(df_r['time_to_accept']).dt.seconds"
   ]
  },
  {
   "cell_type": "code",
   "execution_count": 20,
   "metadata": {},
   "outputs": [],
   "source": [
    "# Get a list of all drivers\n",
    "list_of_all_drivers = df_r['driver_id'].unique()\n",
    "\n",
    "# Get a list of drivers who've done a ride after N days since onboarding. This means they have *not* churned by our assumption\n",
    "drivers_active_after_21_days = df_r[df_r['days_since_onboarding'] > 24]['driver_id'].unique()\n",
    "\n",
    "# Find the users who appear on the list of all drivers, but don't appear on the +21 days list. These are the ones who've churned\n",
    "churned_drivers = np.setdiff1d(list_of_all_drivers, drivers_active_after_21_days)\n",
    "\n",
    "# print (\"Total Drivers: {}\".format(len(list_of_all_drivers)))\n",
    "# print (\"Num Churned Drivers: {}\".format(len(churned_drivers)))\n",
    "# print (\"21 Day Churn post-onboarding Churn Rate: {}\".format(len(churned_drivers) / len(list_of_all_drivers)))"
   ]
  },
  {
   "cell_type": "markdown",
   "metadata": {},
   "source": [
    "### Create your churn table to get ready for RandomForests"
   ]
  },
  {
   "cell_type": "code",
   "execution_count": 21,
   "metadata": {},
   "outputs": [],
   "source": [
    "df = pd.DataFrame(list_of_all_drivers, columns=['driver_id'])\n",
    "df['churn_ind'] = df['driver_id'].apply(lambda x: x in churned_drivers)"
   ]
  },
  {
   "cell_type": "code",
   "execution_count": 22,
   "metadata": {},
   "outputs": [],
   "source": [
    "df = pd.merge(df, df_drivers, how='left', on=['driver_id'])"
   ]
  },
  {
   "cell_type": "code",
   "execution_count": 23,
   "metadata": {},
   "outputs": [],
   "source": [
    "# Get number of rides a driver did in their first week and join to your bigger df\n",
    "rides_in_first_week = df_r[df_r['days_since_onboarding'] <= 7].groupby(['driver_id'])['ride_id'].nunique()\n",
    "df = pd.merge(df, rides_in_first_week, how='left', on=['driver_id'])\n",
    "df = df.rename(columns={\"ride_id\": \"num_rides_first_week\"})"
   ]
  },
  {
   "cell_type": "code",
   "execution_count": 24,
   "metadata": {},
   "outputs": [],
   "source": [
    "# Get number of rides a driver did in their first 2 weeks and join to your bigger df\n",
    "rides_in_first_2week = df_r[df_r['days_since_onboarding'] <= 14].groupby(['driver_id'])['ride_id'].nunique()\n",
    "df = pd.merge(df, rides_in_first_2week, how='left', on=['driver_id'])\n",
    "df = df.rename(columns={\"ride_id\": \"rides_in_first_2week\"})"
   ]
  },
  {
   "cell_type": "code",
   "execution_count": 25,
   "metadata": {},
   "outputs": [],
   "source": [
    "# Get a drivers time to accept in their first two weeks\n",
    "time_to_accept_first_2week = df_r[df_r['days_since_onboarding'] <= 14].groupby(['driver_id'])['time_to_accept'].sum()\n",
    "df = pd.merge(df, time_to_accept_first_2week, how='left', on=['driver_id'])\n",
    "df = df.rename(columns={\"time_to_accept\": \"time_to_accept_first_2week\"})\n",
    "\n",
    "df['avg_time_to_accept_2week'] = df['time_to_accept_first_2week'] / df['rides_in_first_2week']"
   ]
  },
  {
   "cell_type": "code",
   "execution_count": 26,
   "metadata": {},
   "outputs": [],
   "source": [
    "# Get revenue for a driver in their first week\n",
    "revenue_in_first_week = df_r[df_r['days_since_onboarding'] <= 7].groupby(['driver_id'])['ride_revenue'].sum()\n",
    "df = pd.merge(df, revenue_in_first_week, how='left', on=['driver_id'])\n",
    "df = df.rename(columns={\"ride_revenue\": \"ride_revenue_first_week\"})\n",
    "\n",
    "# Average Revenue First Week\n",
    "df['average_revenue_first_week'] = df['ride_revenue_first_week'] / df['num_rides_first_week']"
   ]
  },
  {
   "cell_type": "code",
   "execution_count": 27,
   "metadata": {},
   "outputs": [],
   "source": [
    "revenue_first_5_rides = df_r[df_r['driver_ride_num'] <= 5].groupby(['driver_id'])['ride_revenue'].sum()\n",
    "df = pd.merge(df, revenue_first_5_rides, how='left', on=['driver_id'])\n",
    "df = df.rename(columns={\"ride_revenue\": \"revenue_first_5_rides\"})\n",
    "\n",
    "revenue_first_10_rides = df_r[df_r['driver_ride_num'] <= 10].groupby(['driver_id'])['ride_revenue'].sum()\n",
    "df = pd.merge(df, revenue_first_10_rides, how='left', on=['driver_id'])\n",
    "df = df.rename(columns={\"ride_revenue\": \"revenue_first_10_rides\"})"
   ]
  },
  {
   "cell_type": "code",
   "execution_count": 28,
   "metadata": {},
   "outputs": [],
   "source": [
    "# Get date of the first ride and attach it to your df\n",
    "df_first_ride_date = df_r[df_r['driver_ride_num'] == 1][['driver_id', 'dropped_off_at']]\n",
    "df = pd.merge(df, df_first_ride_date, how='left', on=['driver_id'])\n",
    "df = df.rename(columns={\"dropped_off_at\": \"first_ride_date\"})\n",
    "\n",
    "# Get the delta of how long it took a driver to do their first ride\n",
    "df['days_btw_onboard_first_ride'] = (df['first_ride_date'] - df['driver_onboard_date']).dt.days"
   ]
  },
  {
   "cell_type": "code",
   "execution_count": 29,
   "metadata": {},
   "outputs": [],
   "source": [
    "# Get revenue of a drivers first ride\n",
    "df_first_ride_revenue = df_r[df_r['driver_ride_num'] == 1][['driver_id', 'ride_revenue']]\n",
    "df = pd.merge(df, df_first_ride_revenue, how='left', on=['driver_id'])\n",
    "df = df.rename(columns={\"ride_revenue\": \"first_ride_rev\"})"
   ]
  },
  {
   "cell_type": "code",
   "execution_count": 30,
   "metadata": {},
   "outputs": [],
   "source": [
    "# Fill your NaNs with 0\n",
    "df.fillna(0, inplace=True)"
   ]
  },
  {
   "cell_type": "code",
   "execution_count": 31,
   "metadata": {},
   "outputs": [],
   "source": [
    "# Find the increase they had between the first week and 2nd week.\n",
    "# Hypothesis: If they kept the momentum going, they were more successful. If they declined, they weren't\n",
    "df['first_week_momentum'] = df['rides_in_first_2week'] - df['num_rides_first_week']"
   ]
  },
  {
   "cell_type": "code",
   "execution_count": 32,
   "metadata": {},
   "outputs": [],
   "source": [
    "# Drop the rows you don't need\n",
    "df.drop(['driver_onboard_date', 'days_btw_onboard_first_ride', 'first_ride_date', 'driver_id'], axis=1, inplace=True)\n",
    "\n",
    "df['churn_ind'] = df['churn_ind'].astype(int)\n",
    "\n",
    "df['rand'] = [1]*len(df)"
   ]
  },
  {
   "cell_type": "markdown",
   "metadata": {},
   "source": [
    "### Code up your RandomForests"
   ]
  },
  {
   "cell_type": "code",
   "execution_count": 33,
   "metadata": {},
   "outputs": [
    {
     "name": "stdout",
     "output_type": "stream",
     "text": [
      "Index(['num_rides_first_week', 'rides_in_first_2week',\n",
      "       'time_to_accept_first_2week', 'avg_time_to_accept_2week',\n",
      "       'ride_revenue_first_week', 'average_revenue_first_week',\n",
      "       'revenue_first_5_rides', 'revenue_first_10_rides', 'first_ride_rev',\n",
      "       'first_week_momentum', 'rand'],\n",
      "      dtype='object')\n"
     ]
    }
   ],
   "source": [
    "X_train, X_test, y_train, y_test = train_test_split(df.iloc[:,1:], df['churn_ind'], test_size=0.3, random_state=42)\n",
    "print (X_train.columns)"
   ]
  },
  {
   "cell_type": "code",
   "execution_count": 34,
   "metadata": {},
   "outputs": [
    {
     "data": {
      "text/plain": [
       "RandomForestClassifier(bootstrap=True, class_weight=None, criterion='gini',\n",
       "            max_depth=10, max_features='auto', max_leaf_nodes=None,\n",
       "            min_impurity_decrease=0.0, min_impurity_split=None,\n",
       "            min_samples_leaf=1, min_samples_split=2,\n",
       "            min_weight_fraction_leaf=0.0, n_estimators=1000, n_jobs=None,\n",
       "            oob_score=False, random_state=None, verbose=0,\n",
       "            warm_start=False)"
      ]
     },
     "execution_count": 34,
     "metadata": {},
     "output_type": "execute_result"
    }
   ],
   "source": [
    "clf = RandomForestClassifier(max_depth=10, n_estimators=1000)\n",
    "clf.fit(X_train, y_train)\n",
    "\n",
    "# print (\"Regular Score is {}\".format(clf.score(X_test, y_test)))\n",
    "# print (\"F1 Score Is {}\".format(f1_score(y_test, clf.predict(X_test), average='macro')))\n",
    "# print (\"Model predicted {} churners\".format(sum(clf.predict(X_test))))"
   ]
  },
  {
   "cell_type": "code",
   "execution_count": 35,
   "metadata": {},
   "outputs": [
    {
     "data": {
      "image/png": "[encoded data removed]",
      "text/plain": [
       "<Figure size 432x288 with 1 Axes>"
      ]
     },
     "metadata": {
      "needs_background": "light"
     },
     "output_type": "display_data"
    }
   ],
   "source": [
    "# calculate the fpr and tpr for all thresholds of the classification\n",
    "probs = clf.predict_proba(X_test)\n",
    "preds = probs[:,1]\n",
    "fpr, tpr, threshold = metrics.roc_curve(y_test, preds)\n",
    "roc_auc = metrics.auc(fpr, tpr)\n",
    "# print (roc_auc)\n",
    "\n",
    "# method I: plt\n",
    "plt.title('Receiver Operating Characteristic')\n",
    "plt.plot(fpr, tpr, 'b', label = 'AUC = %0.2f' % roc_auc)\n",
    "plt.legend(loc = 'lower right')\n",
    "plt.plot([0, 1], [0, 1],'r--')\n",
    "plt.xlim([0, 1])\n",
    "plt.ylim([0, 1])\n",
    "plt.ylabel('True Positive Rate')\n",
    "plt.xlabel('False Positive Rate')\n",
    "plt.show()"
   ]
  },
  {
   "cell_type": "code",
   "execution_count": 36,
   "metadata": {},
   "outputs": [
    {
     "data": {
      "text/html": [
       "<div>\n",
       "<style scoped>\n",
       "    .dataframe tbody tr th:only-of-type {\n",
       "        vertical-align: middle;\n",
       "    }\n",
       "\n",
       "    .dataframe tbody tr th {\n",
       "        vertical-align: top;\n",
       "    }\n",
       "\n",
       "    .dataframe thead th {\n",
       "        text-align: right;\n",
       "    }\n",
       "</style>\n",
       "<table border=\"1\" class=\"dataframe\">\n",
       "  <thead>\n",
       "    <tr style=\"text-align: right;\">\n",
       "      <th></th>\n",
       "      <th>Feature</th>\n",
       "      <th>Importance</th>\n",
       "    </tr>\n",
       "  </thead>\n",
       "  <tbody>\n",
       "    <tr>\n",
       "      <th>1</th>\n",
       "      <td>rides_in_first_2week</td>\n",
       "      <td>0.139220</td>\n",
       "    </tr>\n",
       "    <tr>\n",
       "      <th>9</th>\n",
       "      <td>first_week_momentum</td>\n",
       "      <td>0.119645</td>\n",
       "    </tr>\n",
       "    <tr>\n",
       "      <th>4</th>\n",
       "      <td>ride_revenue_first_week</td>\n",
       "      <td>0.105096</td>\n",
       "    </tr>\n",
       "    <tr>\n",
       "      <th>6</th>\n",
       "      <td>revenue_first_5_rides</td>\n",
       "      <td>0.103751</td>\n",
       "    </tr>\n",
       "    <tr>\n",
       "      <th>2</th>\n",
       "      <td>time_to_accept_first_2week</td>\n",
       "      <td>0.102319</td>\n",
       "    </tr>\n",
       "    <tr>\n",
       "      <th>7</th>\n",
       "      <td>revenue_first_10_rides</td>\n",
       "      <td>0.096271</td>\n",
       "    </tr>\n",
       "    <tr>\n",
       "      <th>0</th>\n",
       "      <td>num_rides_first_week</td>\n",
       "      <td>0.095633</td>\n",
       "    </tr>\n",
       "    <tr>\n",
       "      <th>8</th>\n",
       "      <td>first_ride_rev</td>\n",
       "      <td>0.083085</td>\n",
       "    </tr>\n",
       "    <tr>\n",
       "      <th>5</th>\n",
       "      <td>average_revenue_first_week</td>\n",
       "      <td>0.078444</td>\n",
       "    </tr>\n",
       "    <tr>\n",
       "      <th>3</th>\n",
       "      <td>avg_time_to_accept_2week</td>\n",
       "      <td>0.076536</td>\n",
       "    </tr>\n",
       "    <tr>\n",
       "      <th>10</th>\n",
       "      <td>rand</td>\n",
       "      <td>0.000000</td>\n",
       "    </tr>\n",
       "  </tbody>\n",
       "</table>\n",
       "</div>"
      ],
      "text/plain": [
       "                       Feature  Importance\n",
       "1         rides_in_first_2week    0.139220\n",
       "9          first_week_momentum    0.119645\n",
       "4      ride_revenue_first_week    0.105096\n",
       "6        revenue_first_5_rides    0.103751\n",
       "2   time_to_accept_first_2week    0.102319\n",
       "7       revenue_first_10_rides    0.096271\n",
       "0         num_rides_first_week    0.095633\n",
       "8               first_ride_rev    0.083085\n",
       "5   average_revenue_first_week    0.078444\n",
       "3     avg_time_to_accept_2week    0.076536\n",
       "10                        rand    0.000000"
      ]
     },
     "execution_count": 36,
     "metadata": {},
     "output_type": "execute_result"
    }
   ],
   "source": [
    "pd.DataFrame(zip(X_train.columns, clf.feature_importances_), columns=['Feature', 'Importance']).sort_values('Importance', ascending=False)"
   ]
  },
  {
   "cell_type": "code",
   "execution_count": null,
   "metadata": {},
   "outputs": [],
   "source": []
  }
 ],
 "metadata": {
  "kernelspec": {
   "display_name": "Python 3",
   "language": "python",
   "name": "python3"
  },
  "language_info": {
   "codemirror_mode": {
    "name": "ipython",
    "version": 3
   },
   "file_extension": ".py",
   "mimetype": "text/x-python",
   "name": "python",
   "nbconvert_exporter": "python",
   "pygments_lexer": "ipython3",
   "version": "3.7.3"
  }
 },
 "nbformat": 4,
 "nbformat_minor": 2
}
